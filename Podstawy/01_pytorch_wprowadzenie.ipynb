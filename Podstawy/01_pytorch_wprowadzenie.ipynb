{
 "cells": [
  {
   "cell_type": "code",
   "execution_count": 1,
   "id": "3f650eec",
   "metadata": {},
   "outputs": [
    {
     "name": "stdout",
     "output_type": "stream",
     "text": [
      "2.3.1\n"
     ]
    }
   ],
   "source": [
    "import torch\n",
    "print(torch.__version__)\n",
    "import numpy as np"
   ]
  },
  {
   "cell_type": "code",
   "execution_count": 2,
   "id": "7a28df03",
   "metadata": {},
   "outputs": [
    {
     "data": {
      "text/plain": [
       "0"
      ]
     },
     "execution_count": 2,
     "metadata": {},
     "output_type": "execute_result"
    }
   ],
   "source": [
    "scalar = torch.tensor(3)\n",
    "scalar.ndim"
   ]
  },
  {
   "cell_type": "code",
   "execution_count": 3,
   "id": "fad24210",
   "metadata": {},
   "outputs": [
    {
     "data": {
      "text/plain": [
       "3"
      ]
     },
     "execution_count": 3,
     "metadata": {},
     "output_type": "execute_result"
    }
   ],
   "source": [
    "scalar.item()"
   ]
  },
  {
   "cell_type": "code",
   "execution_count": 4,
   "id": "f9b17b35",
   "metadata": {},
   "outputs": [
    {
     "data": {
      "text/plain": [
       "1"
      ]
     },
     "execution_count": 4,
     "metadata": {},
     "output_type": "execute_result"
    }
   ],
   "source": [
    "vector = torch.tensor([1, 7])\n",
    "vector.ndim"
   ]
  },
  {
   "cell_type": "code",
   "execution_count": 5,
   "id": "97d6ff02",
   "metadata": {},
   "outputs": [
    {
     "data": {
      "text/plain": [
       "torch.Size([2])"
      ]
     },
     "execution_count": 5,
     "metadata": {},
     "output_type": "execute_result"
    }
   ],
   "source": [
    "vector.shape"
   ]
  },
  {
   "cell_type": "code",
   "execution_count": 6,
   "id": "fbc574f6",
   "metadata": {},
   "outputs": [
    {
     "data": {
      "text/plain": [
       "2"
      ]
     },
     "execution_count": 6,
     "metadata": {},
     "output_type": "execute_result"
    }
   ],
   "source": [
    "matrix = torch.tensor([[4, 6], [7, 9]])\n",
    "matrix.ndim"
   ]
  },
  {
   "cell_type": "code",
   "execution_count": 7,
   "id": "0209ddae",
   "metadata": {},
   "outputs": [
    {
     "data": {
      "text/plain": [
       "torch.Size([2, 2])"
      ]
     },
     "execution_count": 7,
     "metadata": {},
     "output_type": "execute_result"
    }
   ],
   "source": [
    "matrix.shape"
   ]
  },
  {
   "cell_type": "code",
   "execution_count": 8,
   "id": "128ca0a5",
   "metadata": {},
   "outputs": [
    {
     "data": {
      "text/plain": [
       "tensor([[4, 6],\n",
       "        [7, 9]])"
      ]
     },
     "execution_count": 8,
     "metadata": {},
     "output_type": "execute_result"
    }
   ],
   "source": [
    "matrix"
   ]
  },
  {
   "cell_type": "code",
   "execution_count": 9,
   "id": "5dd0b5da",
   "metadata": {},
   "outputs": [
    {
     "data": {
      "text/plain": [
       "tensor([[[1, 2, 3],\n",
       "         [3, 4, 5],\n",
       "         [5, 6, 7]]])"
      ]
     },
     "execution_count": 9,
     "metadata": {},
     "output_type": "execute_result"
    }
   ],
   "source": [
    "tensor1 = torch.tensor([[[1, 2, 3], [3, 4, 5], [5, 6, 7]]])\n",
    "tensor1"
   ]
  },
  {
   "cell_type": "code",
   "execution_count": 10,
   "id": "bfdf20c1",
   "metadata": {},
   "outputs": [
    {
     "data": {
      "text/plain": [
       "tensor([[0.7531, 0.1040, 0.6844, 0.0813, 0.4563],\n",
       "        [0.7269, 0.2042, 0.9869, 0.7403, 0.9982],\n",
       "        [0.7125, 0.1548, 0.8062, 0.6509, 0.8182],\n",
       "        [0.0588, 0.6646, 0.2342, 0.9072, 0.5795]])"
      ]
     },
     "execution_count": 10,
     "metadata": {},
     "output_type": "execute_result"
    }
   ],
   "source": [
    "#losowe wartości\n",
    "tensor2 = torch.rand(4, 5)\n",
    "tensor2"
   ]
  },
  {
   "cell_type": "code",
   "execution_count": 11,
   "id": "d174c788",
   "metadata": {},
   "outputs": [
    {
     "data": {
      "text/plain": [
       "2"
      ]
     },
     "execution_count": 11,
     "metadata": {},
     "output_type": "execute_result"
    }
   ],
   "source": [
    "tensor2.ndim"
   ]
  },
  {
   "cell_type": "code",
   "execution_count": 12,
   "id": "6e8842c4",
   "metadata": {},
   "outputs": [
    {
     "data": {
      "text/plain": [
       "tensor([[0., 0.],\n",
       "        [0., 0.],\n",
       "        [0., 0.]])"
      ]
     },
     "execution_count": 12,
     "metadata": {},
     "output_type": "execute_result"
    }
   ],
   "source": [
    "#tensor z samymi zerami\n",
    "tensor3 = torch.zeros(size=(3, 2))\n",
    "tensor3"
   ]
  },
  {
   "cell_type": "code",
   "execution_count": 13,
   "id": "11e79f79",
   "metadata": {},
   "outputs": [
    {
     "data": {
      "text/plain": [
       "tensor([[1., 1., 1., 1., 1., 1., 1.],\n",
       "        [1., 1., 1., 1., 1., 1., 1.],\n",
       "        [1., 1., 1., 1., 1., 1., 1.],\n",
       "        [1., 1., 1., 1., 1., 1., 1.],\n",
       "        [1., 1., 1., 1., 1., 1., 1.]])"
      ]
     },
     "execution_count": 13,
     "metadata": {},
     "output_type": "execute_result"
    }
   ],
   "source": [
    "#tensor z samymi jedynkami\n",
    "tensor4 = torch.ones(size=(5, 7))\n",
    "tensor4"
   ]
  },
  {
   "cell_type": "code",
   "execution_count": 14,
   "id": "e17bc445",
   "metadata": {},
   "outputs": [
    {
     "name": "stdout",
     "output_type": "stream",
     "text": [
      "Typ wartości w tensorze utworzonym: torch.int64\n",
      "Typ wartości w tensorze losowym: torch.float32\n",
      "Typ wartości w tensorze z zerami: torch.float32\n",
      "Typ wartości w tensorze z jedynkami: torch.float32\n"
     ]
    }
   ],
   "source": [
    "print(f'Typ wartości w tensorze utworzonym: {tensor1.dtype}')\n",
    "print(f'Typ wartości w tensorze losowym: {tensor2.dtype}')\n",
    "print(f'Typ wartości w tensorze z zerami: {tensor3.dtype}')\n",
    "print(f'Typ wartości w tensorze z jedynkami: {tensor4.dtype}')"
   ]
  },
  {
   "cell_type": "code",
   "execution_count": 15,
   "id": "2de38389",
   "metadata": {},
   "outputs": [
    {
     "name": "stdout",
     "output_type": "stream",
     "text": [
      "Typ wartości w tensorze z wykorzystaniem arange(): torch.int64\n"
     ]
    }
   ],
   "source": [
    "tensor5 = torch.arange(0, 15)\n",
    "print(f'Typ wartości w tensorze z wykorzystaniem arange(): {tensor5.dtype}')"
   ]
  },
  {
   "cell_type": "code",
   "execution_count": 16,
   "id": "49e782c8",
   "metadata": {},
   "outputs": [
    {
     "data": {
      "text/plain": [
       "tensor([ 0, 17, 34, 51, 68, 85])"
      ]
     },
     "execution_count": 16,
     "metadata": {},
     "output_type": "execute_result"
    }
   ],
   "source": [
    "tensor6 = torch.arange(start=0, end=100, step=17)\n",
    "tensor6"
   ]
  },
  {
   "cell_type": "code",
   "execution_count": 17,
   "id": "06af4722",
   "metadata": {},
   "outputs": [
    {
     "name": "stdout",
     "output_type": "stream",
     "text": [
      "Typ wartości w utworzonym tensorze: torch.float32\n"
     ]
    }
   ],
   "source": [
    "tensor7 = torch.tensor([4.0, 6.0, 9.0],\n",
    "                      dtype=None)\n",
    "print(f'Typ wartości w utworzonym tensorze: {tensor7.dtype}')"
   ]
  },
  {
   "cell_type": "code",
   "execution_count": 18,
   "id": "ccd00e5d",
   "metadata": {},
   "outputs": [
    {
     "name": "stdout",
     "output_type": "stream",
     "text": [
      "Typ wartości w utworzonym tensorze: torch.float16\n"
     ]
    }
   ],
   "source": [
    "tensor8 = torch.tensor([4.0, 6.0, 9.0],\n",
    "                      dtype=torch.float16,\n",
    "                      device=None,\n",
    "                      requires_grad=False)\n",
    "print(f'Typ wartości w utworzonym tensorze: {tensor8.dtype}')"
   ]
  },
  {
   "cell_type": "code",
   "execution_count": 19,
   "id": "aa139afa",
   "metadata": {},
   "outputs": [
    {
     "name": "stdout",
     "output_type": "stream",
     "text": [
      "Typ wartości w utworzonym tensorze: torch.float32\n",
      "Typ wartości w utworzonym tensorze: torch.float16\n"
     ]
    }
   ],
   "source": [
    "#convert float32 to float16\n",
    "tensor9 = torch.tensor([7.4, 6.9, 9.2])\n",
    "print(f'Typ wartości w utworzonym tensorze: {tensor9.dtype}')\n",
    "tensor10 = tensor9.type(torch.float16)\n",
    "print(f'Typ wartości w utworzonym tensorze: {tensor10.dtype}')"
   ]
  },
  {
   "cell_type": "code",
   "execution_count": 20,
   "id": "c63ab214",
   "metadata": {},
   "outputs": [
    {
     "name": "stdout",
     "output_type": "stream",
     "text": [
      "CPU times: total: 31.2 ms\n",
      "Wall time: 13 ms\n"
     ]
    }
   ],
   "source": [
    "%%time\n",
    "value = 0\n",
    "for x in range(len(tensor9)):\n",
    "    value += tensor9[x] * tensor9[x]"
   ]
  },
  {
   "cell_type": "code",
   "execution_count": 21,
   "id": "3d1d3326",
   "metadata": {},
   "outputs": [
    {
     "name": "stdout",
     "output_type": "stream",
     "text": [
      "CPU times: total: 0 ns\n",
      "Wall time: 19.9 ms\n"
     ]
    }
   ],
   "source": [
    "%%time\n",
    "value2 = torch.matmul(tensor9, tensor9)"
   ]
  },
  {
   "cell_type": "code",
   "execution_count": 22,
   "id": "aa9baa07",
   "metadata": {},
   "outputs": [
    {
     "data": {
      "text/plain": [
       "(tensor([[24, 62, 46],\n",
       "         [12, 61, 65],\n",
       "         [ 8, 19, 13]]),\n",
       " tensor([[24, 62, 46],\n",
       "         [12, 61, 65],\n",
       "         [ 8, 19, 13]]))"
      ]
     },
     "execution_count": 22,
     "metadata": {},
     "output_type": "execute_result"
    }
   ],
   "source": [
    "tensor_A = torch.tensor([[4, 6],\n",
    "                        [8, 3],\n",
    "                        [1, 2]])\n",
    "tensor_B = torch.tensor([[0, 4],\n",
    "                        [5, 7],\n",
    "                        [7, 3]])\n",
    "torch.matmul(tensor_A, tensor_B.T), torch.mm(tensor_A, tensor_B.T)"
   ]
  },
  {
   "cell_type": "code",
   "execution_count": 23,
   "id": "f7abd5e8",
   "metadata": {},
   "outputs": [
    {
     "data": {
      "text/plain": [
       "tensor([[47, 75],\n",
       "        [29, 51]])"
      ]
     },
     "execution_count": 23,
     "metadata": {},
     "output_type": "execute_result"
    }
   ],
   "source": [
    "torch.mm(tensor_A.T, tensor_B)"
   ]
  },
  {
   "cell_type": "code",
   "execution_count": 24,
   "id": "5301773c",
   "metadata": {},
   "outputs": [
    {
     "data": {
      "text/plain": [
       "(tensor([[4, 6],\n",
       "         [8, 3],\n",
       "         [1, 2]]),\n",
       " tensor([[4, 8, 1],\n",
       "         [6, 3, 2]]))"
      ]
     },
     "execution_count": 24,
     "metadata": {},
     "output_type": "execute_result"
    }
   ],
   "source": [
    "tensor_A, tensor_A.T"
   ]
  },
  {
   "cell_type": "code",
   "execution_count": 25,
   "id": "6cbc1a8b",
   "metadata": {},
   "outputs": [
    {
     "data": {
      "text/plain": [
       "(tensor([[0, 4],\n",
       "         [5, 7],\n",
       "         [7, 3]]),\n",
       " tensor([[0, 5, 7],\n",
       "         [4, 7, 3]]))"
      ]
     },
     "execution_count": 25,
     "metadata": {},
     "output_type": "execute_result"
    }
   ],
   "source": [
    "tensor_B, tensor_B.T"
   ]
  },
  {
   "cell_type": "code",
   "execution_count": 26,
   "id": "cf931cb1",
   "metadata": {},
   "outputs": [
    {
     "data": {
      "text/plain": [
       "(tensor([ 4.9000e+00,  7.0000e+00,  1.0000e+00,  8.4000e+00,  1.4300e+00,\n",
       "          4.0000e-02,  8.4300e+01,  2.0540e+02,  2.0541e+02, -2.2100e+01,\n",
       "         -1.4000e+01, -2.2101e+01]),\n",
       " torch.float32)"
      ]
     },
     "execution_count": 26,
     "metadata": {},
     "output_type": "execute_result"
    }
   ],
   "source": [
    "tensor11 = torch.tensor([4.9, 7, 1.0, 8.4, 1.43, .04, 84.3, 205.4, 205.41, -22.1, -14, -22.1005])\n",
    "tensor11, tensor11.dtype"
   ]
  },
  {
   "cell_type": "code",
   "execution_count": 27,
   "id": "3522c04f",
   "metadata": {},
   "outputs": [
    {
     "data": {
      "text/plain": [
       "(tensor(-22.1005), tensor(-22.1005))"
      ]
     },
     "execution_count": 27,
     "metadata": {},
     "output_type": "execute_result"
    }
   ],
   "source": [
    "torch.min(tensor11), tensor11.min()"
   ]
  },
  {
   "cell_type": "code",
   "execution_count": 28,
   "id": "ad6eb119",
   "metadata": {},
   "outputs": [
    {
     "data": {
      "text/plain": [
       "(tensor(205.4100), tensor(205.4100))"
      ]
     },
     "execution_count": 28,
     "metadata": {},
     "output_type": "execute_result"
    }
   ],
   "source": [
    "torch.max(tensor11), tensor11.max()"
   ]
  },
  {
   "cell_type": "code",
   "execution_count": 29,
   "id": "959bab62",
   "metadata": {},
   "outputs": [
    {
     "data": {
      "text/plain": [
       "(tensor(38.3066), tensor(38.3066))"
      ]
     },
     "execution_count": 29,
     "metadata": {},
     "output_type": "execute_result"
    }
   ],
   "source": [
    "#Muszą w funkcji mean() byc wartości float inaczej nie będzie działać\n",
    "torch.mean(tensor11.type(torch.float32)), tensor11.type(torch.float32).mean()"
   ]
  },
  {
   "cell_type": "code",
   "execution_count": 30,
   "id": "21f21496",
   "metadata": {},
   "outputs": [
    {
     "data": {
      "text/plain": [
       "(tensor(459.6795), tensor(459.6795))"
      ]
     },
     "execution_count": 30,
     "metadata": {},
     "output_type": "execute_result"
    }
   ],
   "source": [
    "torch.sum(tensor11), tensor11.sum()"
   ]
  },
  {
   "cell_type": "code",
   "execution_count": 31,
   "id": "73952753",
   "metadata": {},
   "outputs": [
    {
     "data": {
      "text/plain": [
       "(tensor(8), tensor(11))"
      ]
     },
     "execution_count": 31,
     "metadata": {},
     "output_type": "execute_result"
    }
   ],
   "source": [
    "tensor11.argmax(), tensor11.argmin()"
   ]
  },
  {
   "cell_type": "code",
   "execution_count": 32,
   "id": "685959e2",
   "metadata": {},
   "outputs": [
    {
     "data": {
      "text/plain": [
       "tensor([[ 4.9000e+00,  7.0000e+00,  1.0000e+00,  8.4000e+00,  1.4300e+00,\n",
       "          4.0000e-02,  8.4300e+01,  2.0540e+02,  2.0541e+02, -2.2100e+01,\n",
       "         -1.4000e+01, -2.2101e+01]])"
      ]
     },
     "execution_count": 32,
     "metadata": {},
     "output_type": "execute_result"
    }
   ],
   "source": [
    "#Dostosowywanie rozmiaru\n",
    "tensor11.reshape(1, 12)"
   ]
  },
  {
   "cell_type": "code",
   "execution_count": 33,
   "id": "b925a236",
   "metadata": {},
   "outputs": [
    {
     "data": {
      "text/plain": [
       "tensor([[ 4.9000e+00],\n",
       "        [ 7.0000e+00],\n",
       "        [ 1.0000e+00],\n",
       "        [ 8.4000e+00],\n",
       "        [ 1.4300e+00],\n",
       "        [ 4.0000e-02],\n",
       "        [ 8.4300e+01],\n",
       "        [ 2.0540e+02],\n",
       "        [ 2.0541e+02],\n",
       "        [-2.2100e+01],\n",
       "        [-1.4000e+01],\n",
       "        [-2.2101e+01]])"
      ]
     },
     "execution_count": 33,
     "metadata": {},
     "output_type": "execute_result"
    }
   ],
   "source": [
    "tensor11.reshape(12, 1)"
   ]
  },
  {
   "cell_type": "code",
   "execution_count": 34,
   "id": "1c3004b8",
   "metadata": {},
   "outputs": [
    {
     "data": {
      "text/plain": [
       "tensor([[ 4.9000e+00,  7.0000e+00,  1.0000e+00],\n",
       "        [ 8.4000e+00,  1.4300e+00,  4.0000e-02],\n",
       "        [ 8.4300e+01,  2.0540e+02,  2.0541e+02],\n",
       "        [-2.2100e+01, -1.4000e+01, -2.2101e+01]])"
      ]
     },
     "execution_count": 34,
     "metadata": {},
     "output_type": "execute_result"
    }
   ],
   "source": [
    "tensor11.reshape(4, 3)"
   ]
  },
  {
   "cell_type": "code",
   "execution_count": 35,
   "id": "232dee20",
   "metadata": {},
   "outputs": [
    {
     "data": {
      "text/plain": [
       "tensor([[ 4.9000e+00,  7.0000e+00,  1.0000e+00,  8.4000e+00],\n",
       "        [ 1.4300e+00,  4.0000e-02,  8.4300e+01,  2.0540e+02],\n",
       "        [ 2.0541e+02, -2.2100e+01, -1.4000e+01, -2.2101e+01]])"
      ]
     },
     "execution_count": 35,
     "metadata": {},
     "output_type": "execute_result"
    }
   ],
   "source": [
    "tensor11.reshape(3, 4)"
   ]
  },
  {
   "cell_type": "code",
   "execution_count": 36,
   "id": "90f2c445",
   "metadata": {},
   "outputs": [
    {
     "data": {
      "text/plain": [
       "tensor([ 1.,  2.,  3.,  4.,  5.,  6.,  7.,  8.,  9., 10., 11., 12.])"
      ]
     },
     "execution_count": 36,
     "metadata": {},
     "output_type": "execute_result"
    }
   ],
   "source": [
    "tensor12 = torch.arange(1, 13, dtype=torch.float32)\n",
    "tensor12"
   ]
  },
  {
   "cell_type": "code",
   "execution_count": 37,
   "id": "82d7cb61",
   "metadata": {},
   "outputs": [
    {
     "data": {
      "text/plain": [
       "(tensor([[ 1.,  2.,  3.,  4.,  5.,  6.,  7.,  8.,  9., 10., 11., 12.]]),\n",
       " torch.Size([1, 12]))"
      ]
     },
     "execution_count": 37,
     "metadata": {},
     "output_type": "execute_result"
    }
   ],
   "source": [
    "tensor12_view = tensor12.view(1, 12)\n",
    "tensor12_view, tensor12_view.shape"
   ]
  },
  {
   "cell_type": "code",
   "execution_count": 38,
   "id": "00cda03b",
   "metadata": {},
   "outputs": [
    {
     "data": {
      "text/plain": [
       "(tensor([ 7.,  2.,  3.,  4.,  5.,  6.,  7.,  8.,  9., 10., 11., 12.]),\n",
       " tensor([[ 7.,  2.,  3.,  4.,  5.,  6.,  7.,  8.,  9., 10., 11., 12.]]))"
      ]
     },
     "execution_count": 38,
     "metadata": {},
     "output_type": "execute_result"
    }
   ],
   "source": [
    "#Zmienianie widoku tensora powoduje zmiane jego samego, ponieważ dzielą ten sam adres\n",
    "tensor12_view[:, 0] = 7\n",
    "tensor12, tensor12_view"
   ]
  },
  {
   "cell_type": "code",
   "execution_count": 39,
   "id": "73ff1c63",
   "metadata": {},
   "outputs": [
    {
     "data": {
      "text/plain": [
       "tensor([[ 7.,  2.,  3.,  4.,  5.,  6.,  7.,  8.,  9., 10., 11., 12.],\n",
       "        [ 7.,  2.,  3.,  4.,  5.,  6.,  7.,  8.,  9., 10., 11., 12.],\n",
       "        [ 7.,  2.,  3.,  4.,  5.,  6.,  7.,  8.,  9., 10., 11., 12.]])"
      ]
     },
     "execution_count": 39,
     "metadata": {},
     "output_type": "execute_result"
    }
   ],
   "source": [
    "tensor13 = torch.stack([tensor12, tensor12, tensor12], dim=0)\n",
    "tensor13"
   ]
  },
  {
   "cell_type": "code",
   "execution_count": 40,
   "id": "1702fae9",
   "metadata": {},
   "outputs": [
    {
     "data": {
      "text/plain": [
       "tensor([[ 7.,  7.,  7.],\n",
       "        [ 2.,  2.,  2.],\n",
       "        [ 3.,  3.,  3.],\n",
       "        [ 4.,  4.,  4.],\n",
       "        [ 5.,  5.,  5.],\n",
       "        [ 6.,  6.,  6.],\n",
       "        [ 7.,  7.,  7.],\n",
       "        [ 8.,  8.,  8.],\n",
       "        [ 9.,  9.,  9.],\n",
       "        [10., 10., 10.],\n",
       "        [11., 11., 11.],\n",
       "        [12., 12., 12.]])"
      ]
     },
     "execution_count": 40,
     "metadata": {},
     "output_type": "execute_result"
    }
   ],
   "source": [
    "tensor14 = torch.stack([tensor12, tensor12, tensor12], dim=1)\n",
    "tensor14"
   ]
  },
  {
   "cell_type": "code",
   "execution_count": 41,
   "id": "61b96ff1",
   "metadata": {},
   "outputs": [
    {
     "name": "stdout",
     "output_type": "stream",
     "text": [
      "Tensor przed zmianą: tensor([[ 0,  1,  2,  3,  4,  5,  6,  7,  8,  9, 10, 11]])\n",
      "Wymiary tensora przed zmianą: torch.Size([1, 12])\n",
      "\n",
      "Tensor po zmianie: tensor([ 0,  1,  2,  3,  4,  5,  6,  7,  8,  9, 10, 11])\n",
      "Wymiary tensora po zmianie: torch.Size([12])\n"
     ]
    }
   ],
   "source": [
    "#Usuwanie pojedynczych wymiarów z tensora za pomocą funkcji squeeze()\n",
    "tensor15 = torch.arange(0, 12).reshape(1, 12)\n",
    "print(f'Tensor przed zmianą:', tensor15)\n",
    "print(f'Wymiary tensora przed zmianą: {tensor15.shape}')\n",
    "tensor15 = tensor15.squeeze()\n",
    "print(f'\\nTensor po zmianie:', tensor15)\n",
    "print(f'Wymiary tensora po zmianie: {tensor15.shape}')"
   ]
  },
  {
   "cell_type": "code",
   "execution_count": 42,
   "id": "9b294bcd",
   "metadata": {},
   "outputs": [
    {
     "name": "stdout",
     "output_type": "stream",
     "text": [
      "Tensor przed zmianą: tensor([ 0,  1,  2,  3,  4,  5,  6,  7,  8,  9, 10, 11])\n",
      "Wymiary tensora przed zmianą: torch.Size([12])\n",
      "\n",
      "Tensor po zmianie: tensor([[ 0,  1,  2,  3,  4,  5,  6,  7,  8,  9, 10, 11]])\n",
      "Wymiary tensora po zmianie: torch.Size([1, 12])\n"
     ]
    }
   ],
   "source": [
    "#Dodanie dodatkowego wymiaru za pomocą funkcji unsqueeze()\n",
    "print(f'Tensor przed zmianą:', tensor15)\n",
    "print(f'Wymiary tensora przed zmianą: {tensor15.shape}')\n",
    "tensor15 = tensor15.unsqueeze(dim=0)\n",
    "print(f'\\nTensor po zmianie:', tensor15)\n",
    "print(f'Wymiary tensora po zmianie: {tensor15.shape}')"
   ]
  },
  {
   "cell_type": "code",
   "execution_count": 43,
   "id": "611a0b63",
   "metadata": {},
   "outputs": [
    {
     "name": "stdout",
     "output_type": "stream",
     "text": [
      "Rozmiar tensora przed zmianą: torch.Size([224, 224, 3])\n",
      "Rozmiar tensora po zmianie: torch.Size([3, 224, 224])\n"
     ]
    }
   ],
   "source": [
    "#Zamiana kolejności w wymiarach za pomocą funkcji permute()\n",
    "tensor16 = torch.rand(size=(224, 224, 3))\n",
    "print(f'Rozmiar tensora przed zmianą: {tensor16.shape}')\n",
    "tensor16 = tensor16.permute(2, 0, 1)\n",
    "print(f'Rozmiar tensora po zmianie: {tensor16.shape}')"
   ]
  },
  {
   "cell_type": "code",
   "execution_count": 44,
   "id": "bf586f5e",
   "metadata": {},
   "outputs": [
    {
     "name": "stdout",
     "output_type": "stream",
     "text": [
      "Rozmiar tensora przed zmianą: torch.Size([2, 3, 4])\n",
      "Tensor przed zmianą:\n",
      " tensor([[[ 1,  2,  3,  4],\n",
      "         [ 5,  6,  7,  8],\n",
      "         [ 9, 10, 11, 12]],\n",
      "\n",
      "        [[13, 14, 15, 16],\n",
      "         [17, 18, 19, 20],\n",
      "         [21, 22, 23, 24]]])\n",
      "Przykładowa wartość przed zmianą: 7\n",
      "Rozmiar tensora po zmianie: torch.Size([4, 2, 3])\n",
      "Tensor po zmianie:\n",
      " tensor([[[ 1,  5,  9],\n",
      "         [13, 17, 21]],\n",
      "\n",
      "        [[ 2,  6, 10],\n",
      "         [14, 18, 22]],\n",
      "\n",
      "        [[ 3,  7, 11],\n",
      "         [15, 19, 23]],\n",
      "\n",
      "        [[ 4,  8, 12],\n",
      "         [16, 20, 24]]])\n",
      "Przykładowa wartość po zmianie: 21\n"
     ]
    }
   ],
   "source": [
    "#Inny przykład ze zmianą kolejności z wymiarami\n",
    "tensor17 = torch.arange(1, 25).reshape(2, 3, 4)\n",
    "print(f'Rozmiar tensora przed zmianą: {tensor17.shape}')\n",
    "print(f'Tensor przed zmianą:\\n', tensor17)\n",
    "print(f'Przykładowa wartość przed zmianą: {tensor17[0, 1, 2]}')\n",
    "tensor17 = tensor17.permute(2, 0, 1)\n",
    "print(f'Rozmiar tensora po zmianie: {tensor17.shape}')\n",
    "print(f'Tensor po zmianie:\\n', tensor17)\n",
    "print(f'Przykładowa wartość po zmianie: {tensor17[0, 1, 2]}')"
   ]
  },
  {
   "cell_type": "code",
   "execution_count": 45,
   "id": "7e7bc25b",
   "metadata": {},
   "outputs": [
    {
     "data": {
      "text/plain": [
       "(tensor([[[ 1,  2,  3,  4],\n",
       "          [ 5,  6,  7,  8],\n",
       "          [ 9, 10, 11, 12]]]),\n",
       " torch.Size([1, 3, 4]))"
      ]
     },
     "execution_count": 45,
     "metadata": {},
     "output_type": "execute_result"
    }
   ],
   "source": [
    "#Testowanie posługiwanie sie indeksami tensora\n",
    "tensor17 = torch.arange(1, 13).reshape(1, 3, 4)\n",
    "tensor17, tensor17.shape"
   ]
  },
  {
   "cell_type": "code",
   "execution_count": 46,
   "id": "0fc4d970",
   "metadata": {},
   "outputs": [
    {
     "data": {
      "text/plain": [
       "tensor([ 2,  6, 10])"
      ]
     },
     "execution_count": 46,
     "metadata": {},
     "output_type": "execute_result"
    }
   ],
   "source": [
    "tensor17[0, :, 1]"
   ]
  },
  {
   "cell_type": "code",
   "execution_count": 47,
   "id": "0841dcbb",
   "metadata": {},
   "outputs": [
    {
     "data": {
      "text/plain": [
       "(tensor(6), tensor(6))"
      ]
     },
     "execution_count": 47,
     "metadata": {},
     "output_type": "execute_result"
    }
   ],
   "source": [
    "tensor17[0, 1, 1], tensor17[0][1][1]"
   ]
  },
  {
   "cell_type": "code",
   "execution_count": 48,
   "id": "32eafe72",
   "metadata": {},
   "outputs": [
    {
     "data": {
      "text/plain": [
       "tensor([[ 4,  8, 12]])"
      ]
     },
     "execution_count": 48,
     "metadata": {},
     "output_type": "execute_result"
    }
   ],
   "source": [
    "tensor17[:, :, 3]"
   ]
  },
  {
   "cell_type": "code",
   "execution_count": 49,
   "id": "b97cfd3d",
   "metadata": {},
   "outputs": [
    {
     "data": {
      "text/plain": [
       "(tensor(1), tensor(5), tensor(9), tensor(2), tensor(4))"
      ]
     },
     "execution_count": 49,
     "metadata": {},
     "output_type": "execute_result"
    }
   ],
   "source": [
    "tensor17[0, 0, 0], tensor17[0, 1, 0], tensor17[0, -1, 0], tensor17[0, 0, 1], tensor17[0, 0, -1]"
   ]
  },
  {
   "cell_type": "code",
   "execution_count": 50,
   "id": "e914c4bc",
   "metadata": {},
   "outputs": [
    {
     "data": {
      "text/plain": [
       "(tensor([1]), tensor([1, 5, 9]), tensor([1, 2, 3, 4]))"
      ]
     },
     "execution_count": 50,
     "metadata": {},
     "output_type": "execute_result"
    }
   ],
   "source": [
    "tensor17[:, 0, 0], tensor17[0, :, 0], tensor17[0, 0, :]"
   ]
  },
  {
   "cell_type": "code",
   "execution_count": 51,
   "id": "902aad34",
   "metadata": {},
   "outputs": [
    {
     "data": {
      "text/plain": [
       "(array([1., 2., 3., 4., 5., 6., 7., 8., 9.]),\n",
       " dtype('float64'),\n",
       " tensor([1., 2., 3., 4., 5., 6., 7., 8., 9.], dtype=torch.float64),\n",
       " torch.float64)"
      ]
     },
     "execution_count": 51,
     "metadata": {},
     "output_type": "execute_result"
    }
   ],
   "source": [
    "#Konwertowanie tablicy z biblioteki numpy do pytorch i na odwrót\n",
    "array1 = np.arange(1.0, 10.0)\n",
    "tensor18 = torch.from_numpy(array1)\n",
    "array1, array1.dtype, tensor18, tensor18.dtype"
   ]
  },
  {
   "cell_type": "code",
   "execution_count": 52,
   "id": "0c0e79bd",
   "metadata": {},
   "outputs": [
    {
     "data": {
      "text/plain": [
       "torch.float32"
      ]
     },
     "execution_count": 52,
     "metadata": {},
     "output_type": "execute_result"
    }
   ],
   "source": [
    "#Pytorch podczas zmiany z numpy na pytorch nadaje tablicy typ float64, zaś przy normalnym tworzeniu jest to typ float32\n",
    "torch.arange(1.0, 1.5).dtype"
   ]
  },
  {
   "cell_type": "code",
   "execution_count": 53,
   "id": "85924068",
   "metadata": {},
   "outputs": [
    {
     "data": {
      "text/plain": [
       "torch.float32"
      ]
     },
     "execution_count": 53,
     "metadata": {},
     "output_type": "execute_result"
    }
   ],
   "source": [
    "#Typ zmiany można ustalić\n",
    "torch19 = torch.from_numpy(array1).type(torch.float32)\n",
    "torch19.dtype"
   ]
  },
  {
   "cell_type": "code",
   "execution_count": 54,
   "id": "6be00d6f",
   "metadata": {},
   "outputs": [
    {
     "data": {
      "text/plain": [
       "(torch.float32, dtype('float32'))"
      ]
     },
     "execution_count": 54,
     "metadata": {},
     "output_type": "execute_result"
    }
   ],
   "source": [
    "tensor20 = torch.ones(9)\n",
    "array2 = tensor20.numpy()\n",
    "tensor20.dtype, array2.dtype"
   ]
  },
  {
   "cell_type": "code",
   "execution_count": 55,
   "id": "34611c25",
   "metadata": {},
   "outputs": [
    {
     "name": "stdout",
     "output_type": "stream",
     "text": [
      "tensor([[0.1197, 0.1538, 0.5022, 0.9742],\n",
      "        [0.2978, 0.3381, 0.5967, 0.5457],\n",
      "        [0.7069, 0.9622, 0.5988, 0.8722]])\n",
      "tensor([[0.6205, 0.0017, 0.0064, 0.2902],\n",
      "        [0.9858, 0.2342, 0.6687, 0.3058],\n",
      "        [0.7590, 0.0355, 0.5388, 0.2021]])\n",
      "tensor([[False, False, False, False],\n",
      "        [False, False, False, False],\n",
      "        [False, False, False, False]])\n"
     ]
    }
   ],
   "source": [
    "tensor_C = torch.rand(3, 4)\n",
    "tensor_D = torch.rand(3, 4)\n",
    "\n",
    "print(tensor_C)\n",
    "print(tensor_D)\n",
    "print(tensor_C == tensor_D)"
   ]
  },
  {
   "cell_type": "code",
   "execution_count": 56,
   "id": "cd6fd065",
   "metadata": {},
   "outputs": [
    {
     "name": "stdout",
     "output_type": "stream",
     "text": [
      "tensor([[0.9686, 0.1999, 0.8799, 0.6622],\n",
      "        [0.2161, 0.1192, 0.3617, 0.0167],\n",
      "        [0.8503, 0.9620, 0.2479, 0.2946]])\n",
      "tensor([[0.9686, 0.1999, 0.8799, 0.6622],\n",
      "        [0.2161, 0.1192, 0.3617, 0.0167],\n",
      "        [0.8503, 0.9620, 0.2479, 0.2946]])\n",
      "tensor([[True, True, True, True],\n",
      "        [True, True, True, True],\n",
      "        [True, True, True, True]])\n"
     ]
    }
   ],
   "source": [
    "#Manipulowanie wartościami losowymi za pomocą manual_seed()\n",
    "random_seed = 19\n",
    "\n",
    "torch.manual_seed(random_seed)\n",
    "tensor_E = torch.rand(3, 4)\n",
    "\n",
    "torch.manual_seed(random_seed)\n",
    "tensor_F = torch.rand(3, 4)\n",
    "\n",
    "print(tensor_E)\n",
    "print(tensor_F)\n",
    "print(tensor_E == tensor_F)"
   ]
  },
  {
   "cell_type": "code",
   "execution_count": 57,
   "id": "c1d10802",
   "metadata": {},
   "outputs": [
    {
     "data": {
      "text/plain": [
       "(False, True)"
      ]
     },
     "execution_count": 57,
     "metadata": {},
     "output_type": "execute_result"
    }
   ],
   "source": [
    "torch.cuda.is_available(), torch.cpu.is_available()"
   ]
  },
  {
   "cell_type": "code",
   "execution_count": null,
   "id": "36b60399-7101-43b1-aac4-c7ffbd6c3890",
   "metadata": {},
   "outputs": [],
   "source": []
  }
 ],
 "metadata": {
  "kernelspec": {
   "display_name": "Python 3 (ipykernel)",
   "language": "python",
   "name": "python3"
  },
  "language_info": {
   "codemirror_mode": {
    "name": "ipython",
    "version": 3
   },
   "file_extension": ".py",
   "mimetype": "text/x-python",
   "name": "python",
   "nbconvert_exporter": "python",
   "pygments_lexer": "ipython3",
   "version": "3.11.5"
  }
 },
 "nbformat": 4,
 "nbformat_minor": 5
}
