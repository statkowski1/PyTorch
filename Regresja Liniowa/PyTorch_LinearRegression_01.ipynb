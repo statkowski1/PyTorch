{
 "cells": [
  {
   "cell_type": "code",
   "execution_count": 1,
   "id": "2956d00b",
   "metadata": {},
   "outputs": [],
   "source": [
    "import torch\n",
    "import torch.nn as nn\n",
    "import torch.optim as optim"
   ]
  },
  {
   "cell_type": "code",
   "execution_count": 2,
   "id": "8cc15ff4",
   "metadata": {},
   "outputs": [
    {
     "name": "stdout",
     "output_type": "stream",
     "text": [
      "Initial weights: Parameter containing:\n",
      "tensor([[1.]], requires_grad=True)\n",
      "Initial bias: Parameter containing:\n",
      "tensor([0.5000], requires_grad=True)\n",
      "\n",
      "Outputs: tensor([[1.5000],\n",
      "        [2.5000],\n",
      "        [3.5000],\n",
      "        [4.5000]], grad_fn=<AddmmBackward0>)\n",
      "\n",
      "Epoch 1, Loss (MSE): 0.25\n",
      "----------------------------------------------------------------------------------------------------\n",
      "Initial weights: Parameter containing:\n",
      "tensor([[1.0250]], requires_grad=True)\n",
      "Initial bias: Parameter containing:\n",
      "tensor([0.5100], requires_grad=True)\n",
      "\n",
      "Outputs: tensor([[1.5350],\n",
      "        [2.5600],\n",
      "        [3.5850],\n",
      "        [4.6100]], grad_fn=<AddmmBackward0>)\n",
      "\n",
      "Epoch 2, Loss (MSE): 0.18353763222694397\n",
      "----------------------------------------------------------------------------------------------------\n",
      "Initial weights: Parameter containing:\n",
      "tensor([[1.0458]], requires_grad=True)\n",
      "Initial bias: Parameter containing:\n",
      "tensor([0.5185], requires_grad=True)\n",
      "\n",
      "Outputs: tensor([[1.5643],\n",
      "        [2.6100],\n",
      "        [3.6558],\n",
      "        [4.7016]], grad_fn=<AddmmBackward0>)\n",
      "\n",
      "Epoch 3, Loss (MSE): 0.13736039400100708\n",
      "----------------------------------------------------------------------------------------------------\n"
     ]
    }
   ],
   "source": [
    "torch.manual_seed(42)\n",
    "\n",
    "# Dane wejściowe i wyjściowe\n",
    "X = torch.tensor([[1.0], [2.0], [3.0], [4.0]], requires_grad=True)\n",
    "y = torch.tensor([[2.0], [3.0], [4.0], [5.0]])\n",
    "\n",
    "# Definicja modelu liniowego\n",
    "model = nn.Linear(1, 1)\n",
    "\n",
    "# Ustawienie innych wartości wagi i przesunięcia\n",
    "model.weight.data.fill_(1.0)\n",
    "model.bias.data.fill_(0.5)\n",
    "\n",
    "# Funkcja strat\n",
    "criterion = nn.MSELoss()\n",
    "\n",
    "# Optymalizator\n",
    "optimizer = optim.SGD(model.parameters(), lr=0.01)\n",
    "\n",
    "# Liczba epok\n",
    "epochs = 3\n",
    "\n",
    "for epoch in range(epochs):\n",
    "    print(f'Initial weights: {model.weight}')\n",
    "    print(f'Initial bias: {model.bias}\\n')\n",
    "    \n",
    "    # Przewidywanie\n",
    "    y_pred = model(X)\n",
    "    \n",
    "    # Obliczanie straty\n",
    "    loss = criterion(y_pred, y)\n",
    "    \n",
    "    # Zerowanie gradientów\n",
    "    optimizer.zero_grad()\n",
    "    \n",
    "    # Obliczanie gradientów\n",
    "    loss.backward()\n",
    "    \n",
    "    # Aktualizacja wag\n",
    "    optimizer.step()\n",
    "    \n",
    "    # Wyświetlanie straty\n",
    "    print(f'Outputs: {y_pred}\\n')\n",
    "    print(f'Epoch {epoch+1}, Loss (MSE): {loss.item()}')\n",
    "    print('-'*100)"
   ]
  },
  {
   "cell_type": "code",
   "execution_count": null,
   "id": "02ba189a",
   "metadata": {},
   "outputs": [],
   "source": []
  }
 ],
 "metadata": {
  "kernelspec": {
   "display_name": "Python 3 (ipykernel)",
   "language": "python",
   "name": "python3"
  },
  "language_info": {
   "codemirror_mode": {
    "name": "ipython",
    "version": 3
   },
   "file_extension": ".py",
   "mimetype": "text/x-python",
   "name": "python",
   "nbconvert_exporter": "python",
   "pygments_lexer": "ipython3",
   "version": "3.11.5"
  }
 },
 "nbformat": 4,
 "nbformat_minor": 5
}
