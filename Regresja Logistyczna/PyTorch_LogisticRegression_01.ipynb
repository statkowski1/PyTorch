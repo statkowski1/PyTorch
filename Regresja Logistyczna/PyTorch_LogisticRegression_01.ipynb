{
 "cells": [
  {
   "cell_type": "code",
   "execution_count": 1,
   "id": "de723cec",
   "metadata": {},
   "outputs": [],
   "source": [
    "import torch\n",
    "import torch.nn as nn\n",
    "import torch.optim as optim\n",
    "import numpy as np"
   ]
  },
  {
   "cell_type": "code",
   "execution_count": 2,
   "id": "18b8076c",
   "metadata": {},
   "outputs": [],
   "source": [
    "# Proste dane\n",
    "X = np.array([[0.5], [1.5], [3.0], [4.5], [5.5], [6.5], [7.5], [8.0], [9.0], [10.0]])\n",
    "y = np.array([[0], [0], [0], [0], [1], [1], [1], [1], [1], [1]])\n",
    "\n",
    "# Konwersja na tensory\n",
    "X_tensor = torch.FloatTensor(X)\n",
    "y_tensor = torch.FloatTensor(y)"
   ]
  },
  {
   "cell_type": "code",
   "execution_count": 3,
   "id": "415c642c",
   "metadata": {},
   "outputs": [],
   "source": [
    "class LogisticRegressionModel(nn.Module):\n",
    "    def __init__(self):\n",
    "        super(LogisticRegressionModel, self).__init__()\n",
    "        self.linear = nn.Linear(1, 1)\n",
    "    \n",
    "    def forward(self, x):\n",
    "        return torch.sigmoid(self.linear(x))\n",
    "\n",
    "model = LogisticRegressionModel()\n",
    "criterion = nn.BCELoss()\n",
    "optimizer = optim.SGD(model.parameters(), lr=0.01)"
   ]
  },
  {
   "cell_type": "code",
   "execution_count": 4,
   "id": "12eb3986",
   "metadata": {},
   "outputs": [
    {
     "name": "stdout",
     "output_type": "stream",
     "text": [
      "Epoch 100, Loss: 0.40418583154678345\n",
      "Epoch 200, Loss: 0.3860282897949219\n",
      "Epoch 300, Loss: 0.3717727065086365\n",
      "Epoch 400, Loss: 0.3587280511856079\n",
      "Epoch 500, Loss: 0.3467640280723572\n",
      "Epoch 600, Loss: 0.3357655704021454\n",
      "Epoch 700, Loss: 0.3256303668022156\n",
      "Epoch 800, Loss: 0.3162685036659241\n",
      "Epoch 900, Loss: 0.30760008096694946\n",
      "Epoch 1000, Loss: 0.299555242061615\n"
     ]
    }
   ],
   "source": [
    "epochs = 1000\n",
    "for epoch in range(epochs):\n",
    "    model.train()\n",
    "    optimizer.zero_grad()\n",
    "    outputs = model(X_tensor)\n",
    "    loss = criterion(outputs, y_tensor)\n",
    "    loss.backward()\n",
    "    optimizer.step()\n",
    "    \n",
    "    if (epoch+1) % 100 == 0:\n",
    "        print(f'Epoch {epoch+1}, Loss: {loss.item()}')"
   ]
  },
  {
   "cell_type": "code",
   "execution_count": 5,
   "id": "b167a36c",
   "metadata": {},
   "outputs": [
    {
     "name": "stdout",
     "output_type": "stream",
     "text": [
      "Accuracy: 90.0%\n"
     ]
    }
   ],
   "source": [
    "model.eval()\n",
    "with torch.no_grad():\n",
    "    predictions = model(X_tensor)\n",
    "    predicted_classes = (predictions >= 0.5).float()\n",
    "    accuracy = (predicted_classes == y_tensor).sum().item() / y_tensor.size(0)\n",
    "\n",
    "print(f'Accuracy: {accuracy * 100}%')"
   ]
  },
  {
   "cell_type": "code",
   "execution_count": null,
   "id": "99c586c5",
   "metadata": {},
   "outputs": [],
   "source": []
  }
 ],
 "metadata": {
  "kernelspec": {
   "display_name": "Python 3 (ipykernel)",
   "language": "python",
   "name": "python3"
  },
  "language_info": {
   "codemirror_mode": {
    "name": "ipython",
    "version": 3
   },
   "file_extension": ".py",
   "mimetype": "text/x-python",
   "name": "python",
   "nbconvert_exporter": "python",
   "pygments_lexer": "ipython3",
   "version": "3.11.5"
  }
 },
 "nbformat": 4,
 "nbformat_minor": 5
}
